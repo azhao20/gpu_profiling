{
 "cells": [
  {
   "cell_type": "code",
   "execution_count": 1,
   "metadata": {},
   "outputs": [],
   "source": [
    "import pandas as pd\n",
    "import os, sys\n",
    "import numpy as np\n",
    "\n",
    "sys.path.insert(0, os.path.abspath(os.path.join(os.getcwd(), '../..')))\n",
    "\n",
    "from utils.prediction_utils import *\n",
    "\"\"\n",
    "import matplotlib.pyplot as plt\n",
    "%matplotlib inline\n",
    "\n",
    "from sklearn.metrics import make_scorer, r2_score\n",
    "\n",
    "import torch\n",
    "from torch import nn\n",
    "from torch.utils.data import DataLoader, TensorDataset\n",
    "from sklearn.preprocessing import StandardScaler\n",
    "\n",
    "random_seed = 42"
   ]
  },
  {
   "cell_type": "code",
   "execution_count": 2,
   "metadata": {},
   "outputs": [
    {
     "name": "stderr",
     "output_type": "stream",
     "text": [
      "/Users/andrew/Desktop/Harvard/idreos-research/gpu_profiling/utils/time_utils.py:216: FutureWarning: The behavior of DataFrame concatenation with empty or all-NA entries is deprecated. In a future version, this will no longer exclude empty or all-NA columns when determining the result dtypes. To retain the old behavior, exclude the relevant entries before the concat operation.\n",
      "  dfs = pd.concat(dfs, axis=0, ignore_index=True)\n"
     ]
    },
    {
     "name": "stdout",
     "output_type": "stream",
     "text": [
      "<class 'pandas.core.frame.DataFrame'>\n",
      "RangeIndex: 685125 entries, 0 to 685124\n",
      "Data columns (total 16 columns):\n",
      " #   Column        Non-Null Count   Dtype  \n",
      "---  ------        --------------   -----  \n",
      " 0   b             685125 non-null  int64  \n",
      " 1   in_channels   685125 non-null  int64  \n",
      " 2   iH            685125 non-null  int64  \n",
      " 3   iW            685125 non-null  int64  \n",
      " 4   out_channels  685125 non-null  int64  \n",
      " 5   groups        685125 non-null  int64  \n",
      " 6   kH            685125 non-null  int64  \n",
      " 7   kW            685125 non-null  int64  \n",
      " 8   stride        685125 non-null  int64  \n",
      " 9   dilation      685125 non-null  int64  \n",
      " 10  gflops        685125 non-null  float64\n",
      " 11  dtype_16      685125 non-null  bool   \n",
      " 12  dtype_32      685125 non-null  bool   \n",
      " 13  dtype_b16     685125 non-null  bool   \n",
      " 14  transposed_0  685125 non-null  bool   \n",
      " 15  transposed_1  685125 non-null  bool   \n",
      "dtypes: bool(5), float64(1), int64(10)\n",
      "memory usage: 60.8 MB\n"
     ]
    }
   ],
   "source": [
    "base_dir = \"/Users/andrew/Desktop/Harvard/idreos-research/gpu_profiling\"\n",
    "X, y = get_data(\"conv2d\", base_dir, sample_rate=1.0)\n",
    "X.info()"
   ]
  },
  {
   "cell_type": "code",
   "execution_count": 3,
   "metadata": {},
   "outputs": [],
   "source": [
    "df = pd.concat([X, y], axis=1)\n",
    "df = df.query(\"time > 0\").dropna()\n",
    "X, y = df.drop([\"time\"], axis=1), df[\"time\"]"
   ]
  },
  {
   "cell_type": "code",
   "execution_count": 4,
   "metadata": {},
   "outputs": [
    {
     "name": "stdout",
     "output_type": "stream",
     "text": [
      "<class 'pandas.core.frame.DataFrame'>\n",
      "Index: 444058 entries, 178626 to 121958\n",
      "Data columns (total 16 columns):\n",
      " #   Column        Non-Null Count   Dtype  \n",
      "---  ------        --------------   -----  \n",
      " 0   b             444058 non-null  int64  \n",
      " 1   in_channels   444058 non-null  int64  \n",
      " 2   iH            444058 non-null  int64  \n",
      " 3   iW            444058 non-null  int64  \n",
      " 4   out_channels  444058 non-null  int64  \n",
      " 5   groups        444058 non-null  int64  \n",
      " 6   kH            444058 non-null  int64  \n",
      " 7   kW            444058 non-null  int64  \n",
      " 8   stride        444058 non-null  int64  \n",
      " 9   dilation      444058 non-null  int64  \n",
      " 10  gflops        444058 non-null  float64\n",
      " 11  dtype_16      444058 non-null  bool   \n",
      " 12  dtype_32      444058 non-null  bool   \n",
      " 13  dtype_b16     444058 non-null  bool   \n",
      " 14  transposed_0  444058 non-null  bool   \n",
      " 15  transposed_1  444058 non-null  bool   \n",
      "dtypes: bool(5), float64(1), int64(10)\n",
      "memory usage: 42.8 MB\n"
     ]
    }
   ],
   "source": [
    "X_train, X_val, X_test, y_train, y_val, y_test = get_train_test_split(X, y, return_concat=False)\n",
    "X_train.info()"
   ]
  },
  {
   "cell_type": "markdown",
   "metadata": {},
   "source": [
    "# Neural Network Training"
   ]
  },
  {
   "cell_type": "code",
   "execution_count": 5,
   "metadata": {},
   "outputs": [],
   "source": [
    "scaler = StandardScaler()\n",
    "X_train_scaled = scaler.fit_transform(X_train)\n",
    "X_val_scaled = scaler.transform(X_val)\n",
    "X_test_scaled = scaler.transform(X_test)"
   ]
  },
  {
   "cell_type": "code",
   "execution_count": 14,
   "metadata": {},
   "outputs": [
    {
     "data": {
      "text/plain": [
       "(95155,)"
      ]
     },
     "execution_count": 14,
     "metadata": {},
     "output_type": "execute_result"
    }
   ],
   "source": [
    "# X_train_scaled.shape\n",
    "# X_val_scaled.shape\n",
    "# X_test_scaled.shape"
   ]
  },
  {
   "cell_type": "code",
   "execution_count": 15,
   "metadata": {},
   "outputs": [
    {
     "ename": "",
     "evalue": "",
     "output_type": "error",
     "traceback": [
      "\u001b[1;31mThe Kernel crashed while executing code in the current cell or a previous cell. \n",
      "\u001b[1;31mPlease review the code in the cell(s) to identify a possible cause of the failure. \n",
      "\u001b[1;31mClick <a href='https://aka.ms/vscodeJupyterKernelCrash'>here</a> for more info. \n",
      "\u001b[1;31mView Jupyter <a href='command:jupyter.viewOutput'>log</a> for further details."
     ]
    }
   ],
   "source": [
    "try:\n",
    "    # X_train_t = torch.tensor(X_train_scaled, dtype=torch.float32)\n",
    "    # y_train_t = torch.tensor(y_train.values, dtype=torch.float32)\n",
    "    # X_val_t = torch.tensor(X_val_scaled, dtype=torch.float32)\n",
    "    y_val_t = torch.tensor(y_val.values, dtype=torch.float32)\n",
    "except Exception as e:\n",
    "    print(f\"Error occurred: {e}\")"
   ]
  },
  {
   "cell_type": "code",
   "execution_count": null,
   "metadata": {},
   "outputs": [],
   "source": [
    "\n",
    "# Creating datasets\n",
    "train_dataset = TensorDataset(X_train_t, y_train_t)\n",
    "val_dataset = TensorDataset(X_val_t, y_val_t)\n",
    "\n",
    "train_loader = DataLoader(train_dataset, batch_size=64, shuffle=True)\n",
    "val_loader = DataLoader(val_dataset, batch_size=64, shuffle=False)\n",
    "\n",
    "# Define the Neural Network Architecture\n",
    "class RegressionNN(nn.Module):\n",
    "    def __init__(self):\n",
    "        super(RegressionNN, self).__init__()\n",
    "        self.fc1 = nn.Linear(X_train_t.shape[1], 50)\n",
    "        self.fc2 = nn.Linear(50, 20)\n",
    "        self.fc3 = nn.Linear(20, 1)\n",
    "        self.relu = nn.ReLU()\n",
    "\n",
    "    def forward(self, x):\n",
    "        x = self.relu(self.fc1(x))\n",
    "        x = self.relu(self.fc2(x))\n",
    "        x = self.fc3(x)\n",
    "        return x\n",
    "\n",
    "# Instantiate the model, loss function, and optimizer\n",
    "model = RegressionNN()\n",
    "criterion = nn.MSELoss()\n",
    "optimizer = torch.optim.Adam(model.parameters(), lr=0.001)\n",
    "\n",
    "# Training loop\n",
    "num_epochs = 50\n",
    "for epoch in range(num_epochs):\n",
    "    model.train()\n",
    "    for inputs, targets in train_loader:\n",
    "        optimizer.zero_grad()\n",
    "        outputs = model(inputs)\n",
    "        loss = criterion(outputs, targets.view(-1, 1))\n",
    "        loss.backward()\n",
    "        optimizer.step()\n",
    "    \n",
    "    # Validation loop\n",
    "    model.eval()\n",
    "    with torch.no_grad():\n",
    "        val_loss = 0\n",
    "        for inputs, targets in val_loader:\n",
    "            outputs = model(inputs)\n",
    "            val_loss += criterion(outputs, targets.view(-1, 1)).item()\n",
    "        val_loss /= len(val_loader)\n",
    "    print(f'Epoch {epoch+1}, Validation Loss: {val_loss:.4f}')\n",
    "\n",
    "# Evaluation on test set can be added similarly"
   ]
  }
 ],
 "metadata": {
  "kernelspec": {
   "display_name": "research",
   "language": "python",
   "name": "python3"
  },
  "language_info": {
   "codemirror_mode": {
    "name": "ipython",
    "version": 3
   },
   "file_extension": ".py",
   "mimetype": "text/x-python",
   "name": "python",
   "nbconvert_exporter": "python",
   "pygments_lexer": "ipython3",
   "version": "3.10.13"
  }
 },
 "nbformat": 4,
 "nbformat_minor": 2
}
