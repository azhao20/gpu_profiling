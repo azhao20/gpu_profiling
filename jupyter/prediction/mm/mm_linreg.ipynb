{
 "cells": [
  {
   "cell_type": "code",
   "execution_count": 1,
   "metadata": {},
   "outputs": [],
   "source": [
    "import pandas as pd\n",
    "import os, sys\n",
    "import numpy as np\n",
    "\n",
    "sys.path.insert(0, os.path.abspath(os.path.join(os.getcwd(), '../../..')))\n",
    "\n",
    "from utils.prediction_utils import *\n",
    "\n",
    "import matplotlib.pyplot as plt\n",
    "%matplotlib inline\n",
    "\n",
    "from sklearn.metrics import mean_squared_error, r2_score\n",
    "import statsmodels.api as sm\n",
    "\n",
    "random_seed = 42"
   ]
  },
  {
   "cell_type": "code",
   "execution_count": 2,
   "metadata": {},
   "outputs": [],
   "source": [
    "base_dir = \"/Users/andrew/Desktop/Harvard/idreos-research/gpu_profiling\"\n",
    "X, y = get_data(\"mm\", base_dir, sample_rate=1.0)"
   ]
  },
  {
   "cell_type": "code",
   "execution_count": 3,
   "metadata": {},
   "outputs": [
    {
     "name": "stdout",
     "output_type": "stream",
     "text": [
      "<class 'pandas.core.frame.DataFrame'>\n",
      "RangeIndex: 1247616 entries, 0 to 1247615\n",
      "Data columns (total 7 columns):\n",
      " #   Column     Non-Null Count    Dtype  \n",
      "---  ------     --------------    -----  \n",
      " 0   n          1247616 non-null  int64  \n",
      " 1   m          1247616 non-null  int64  \n",
      " 2   p          1247616 non-null  int64  \n",
      " 3   gflops     1247616 non-null  float64\n",
      " 4   dtype_16   1247616 non-null  bool   \n",
      " 5   dtype_32   1247616 non-null  bool   \n",
      " 6   dtype_b16  1247616 non-null  bool   \n",
      "dtypes: bool(3), float64(1), int64(3)\n",
      "memory usage: 41.6 MB\n"
     ]
    }
   ],
   "source": [
    "X.info()"
   ]
  },
  {
   "cell_type": "markdown",
   "metadata": {},
   "source": [
    "# Feature Engineering\n",
    "\n",
    "TODO: could do some more feature engineering on I(small n), etc.\n",
    "\n",
    "But a reasonable baseline is to simply regress based on dtype!"
   ]
  },
  {
   "cell_type": "code",
   "execution_count": 4,
   "metadata": {},
   "outputs": [
    {
     "data": {
      "text/html": [
       "<div>\n",
       "<style scoped>\n",
       "    .dataframe tbody tr th:only-of-type {\n",
       "        vertical-align: middle;\n",
       "    }\n",
       "\n",
       "    .dataframe tbody tr th {\n",
       "        vertical-align: top;\n",
       "    }\n",
       "\n",
       "    .dataframe thead th {\n",
       "        text-align: right;\n",
       "    }\n",
       "</style>\n",
       "<table border=\"1\" class=\"dataframe\">\n",
       "  <thead>\n",
       "    <tr style=\"text-align: right;\">\n",
       "      <th></th>\n",
       "      <th>n</th>\n",
       "      <th>m</th>\n",
       "      <th>p</th>\n",
       "      <th>gflops</th>\n",
       "      <th>dtype_16</th>\n",
       "      <th>dtype_32</th>\n",
       "      <th>dtype_b16</th>\n",
       "      <th>32_gflops</th>\n",
       "      <th>16_gflops</th>\n",
       "      <th>b16_gflops</th>\n",
       "    </tr>\n",
       "  </thead>\n",
       "  <tbody>\n",
       "    <tr>\n",
       "      <th>0</th>\n",
       "      <td>16</td>\n",
       "      <td>896</td>\n",
       "      <td>48</td>\n",
       "      <td>0.001376</td>\n",
       "      <td>False</td>\n",
       "      <td>True</td>\n",
       "      <td>False</td>\n",
       "      <td>0.001376</td>\n",
       "      <td>0.000000</td>\n",
       "      <td>0.000000</td>\n",
       "    </tr>\n",
       "    <tr>\n",
       "      <th>1</th>\n",
       "      <td>16</td>\n",
       "      <td>208</td>\n",
       "      <td>1536</td>\n",
       "      <td>0.010224</td>\n",
       "      <td>False</td>\n",
       "      <td>False</td>\n",
       "      <td>True</td>\n",
       "      <td>0.000000</td>\n",
       "      <td>0.000000</td>\n",
       "      <td>0.010224</td>\n",
       "    </tr>\n",
       "    <tr>\n",
       "      <th>2</th>\n",
       "      <td>16</td>\n",
       "      <td>480</td>\n",
       "      <td>10240</td>\n",
       "      <td>0.157286</td>\n",
       "      <td>False</td>\n",
       "      <td>True</td>\n",
       "      <td>False</td>\n",
       "      <td>0.157286</td>\n",
       "      <td>0.000000</td>\n",
       "      <td>0.000000</td>\n",
       "    </tr>\n",
       "    <tr>\n",
       "      <th>3</th>\n",
       "      <td>16</td>\n",
       "      <td>240</td>\n",
       "      <td>18432</td>\n",
       "      <td>0.141558</td>\n",
       "      <td>False</td>\n",
       "      <td>False</td>\n",
       "      <td>True</td>\n",
       "      <td>0.000000</td>\n",
       "      <td>0.000000</td>\n",
       "      <td>0.141558</td>\n",
       "    </tr>\n",
       "    <tr>\n",
       "      <th>4</th>\n",
       "      <td>16</td>\n",
       "      <td>208</td>\n",
       "      <td>256</td>\n",
       "      <td>0.001704</td>\n",
       "      <td>False</td>\n",
       "      <td>True</td>\n",
       "      <td>False</td>\n",
       "      <td>0.001704</td>\n",
       "      <td>0.000000</td>\n",
       "      <td>0.000000</td>\n",
       "    </tr>\n",
       "    <tr>\n",
       "      <th>...</th>\n",
       "      <td>...</td>\n",
       "      <td>...</td>\n",
       "      <td>...</td>\n",
       "      <td>...</td>\n",
       "      <td>...</td>\n",
       "      <td>...</td>\n",
       "      <td>...</td>\n",
       "      <td>...</td>\n",
       "      <td>...</td>\n",
       "      <td>...</td>\n",
       "    </tr>\n",
       "    <tr>\n",
       "      <th>1247611</th>\n",
       "      <td>31744</td>\n",
       "      <td>4096</td>\n",
       "      <td>368</td>\n",
       "      <td>95.697240</td>\n",
       "      <td>False</td>\n",
       "      <td>False</td>\n",
       "      <td>True</td>\n",
       "      <td>0.000000</td>\n",
       "      <td>0.000000</td>\n",
       "      <td>95.697240</td>\n",
       "    </tr>\n",
       "    <tr>\n",
       "      <th>1247612</th>\n",
       "      <td>31744</td>\n",
       "      <td>5120</td>\n",
       "      <td>6144</td>\n",
       "      <td>1997.159793</td>\n",
       "      <td>True</td>\n",
       "      <td>False</td>\n",
       "      <td>False</td>\n",
       "      <td>0.000000</td>\n",
       "      <td>1997.159793</td>\n",
       "      <td>0.000000</td>\n",
       "    </tr>\n",
       "    <tr>\n",
       "      <th>1247613</th>\n",
       "      <td>31744</td>\n",
       "      <td>160</td>\n",
       "      <td>4096</td>\n",
       "      <td>41.607496</td>\n",
       "      <td>False</td>\n",
       "      <td>False</td>\n",
       "      <td>True</td>\n",
       "      <td>0.000000</td>\n",
       "      <td>0.000000</td>\n",
       "      <td>41.607496</td>\n",
       "    </tr>\n",
       "    <tr>\n",
       "      <th>1247614</th>\n",
       "      <td>31744</td>\n",
       "      <td>352</td>\n",
       "      <td>144</td>\n",
       "      <td>3.218080</td>\n",
       "      <td>False</td>\n",
       "      <td>False</td>\n",
       "      <td>True</td>\n",
       "      <td>0.000000</td>\n",
       "      <td>0.000000</td>\n",
       "      <td>3.218080</td>\n",
       "    </tr>\n",
       "    <tr>\n",
       "      <th>1247615</th>\n",
       "      <td>31744</td>\n",
       "      <td>11264</td>\n",
       "      <td>160</td>\n",
       "      <td>114.420613</td>\n",
       "      <td>True</td>\n",
       "      <td>False</td>\n",
       "      <td>False</td>\n",
       "      <td>0.000000</td>\n",
       "      <td>114.420613</td>\n",
       "      <td>0.000000</td>\n",
       "    </tr>\n",
       "  </tbody>\n",
       "</table>\n",
       "<p>1247616 rows × 10 columns</p>\n",
       "</div>"
      ],
      "text/plain": [
       "             n      m      p       gflops  dtype_16  dtype_32  dtype_b16  \\\n",
       "0           16    896     48     0.001376     False      True      False   \n",
       "1           16    208   1536     0.010224     False     False       True   \n",
       "2           16    480  10240     0.157286     False      True      False   \n",
       "3           16    240  18432     0.141558     False     False       True   \n",
       "4           16    208    256     0.001704     False      True      False   \n",
       "...        ...    ...    ...          ...       ...       ...        ...   \n",
       "1247611  31744   4096    368    95.697240     False     False       True   \n",
       "1247612  31744   5120   6144  1997.159793      True     False      False   \n",
       "1247613  31744    160   4096    41.607496     False     False       True   \n",
       "1247614  31744    352    144     3.218080     False     False       True   \n",
       "1247615  31744  11264    160   114.420613      True     False      False   \n",
       "\n",
       "         32_gflops    16_gflops  b16_gflops  \n",
       "0         0.001376     0.000000    0.000000  \n",
       "1         0.000000     0.000000    0.010224  \n",
       "2         0.157286     0.000000    0.000000  \n",
       "3         0.000000     0.000000    0.141558  \n",
       "4         0.001704     0.000000    0.000000  \n",
       "...            ...          ...         ...  \n",
       "1247611   0.000000     0.000000   95.697240  \n",
       "1247612   0.000000  1997.159793    0.000000  \n",
       "1247613   0.000000     0.000000   41.607496  \n",
       "1247614   0.000000     0.000000    3.218080  \n",
       "1247615   0.000000   114.420613    0.000000  \n",
       "\n",
       "[1247616 rows x 10 columns]"
      ]
     },
     "execution_count": 4,
     "metadata": {},
     "output_type": "execute_result"
    }
   ],
   "source": [
    "dtypes = [\"32\", \"16\", \"b16\"]\n",
    "for dtype in dtypes:\n",
    "    X[f\"{dtype}_gflops\"] =   X[f\"dtype_{dtype}\"] * X[\"gflops\"]\n",
    "\n",
    "X"
   ]
  },
  {
   "cell_type": "markdown",
   "metadata": {},
   "source": [
    "# Train Test Split\n",
    "\n",
    "15% val, 15% test, 70% train."
   ]
  },
  {
   "cell_type": "code",
   "execution_count": 5,
   "metadata": {},
   "outputs": [],
   "source": [
    "df_train, df_val, df_test = get_train_test_split(X, y)"
   ]
  },
  {
   "cell_type": "code",
   "execution_count": 6,
   "metadata": {},
   "outputs": [
    {
     "name": "stdout",
     "output_type": "stream",
     "text": [
      "<class 'pandas.core.frame.DataFrame'>\n",
      "Index: 873331 entries, 532472 to 121958\n",
      "Data columns (total 11 columns):\n",
      " #   Column      Non-Null Count   Dtype  \n",
      "---  ------      --------------   -----  \n",
      " 0   n           873331 non-null  int64  \n",
      " 1   m           873331 non-null  int64  \n",
      " 2   p           873331 non-null  int64  \n",
      " 3   gflops      873331 non-null  float64\n",
      " 4   dtype_16    873331 non-null  bool   \n",
      " 5   dtype_32    873331 non-null  bool   \n",
      " 6   dtype_b16   873331 non-null  bool   \n",
      " 7   32_gflops   873331 non-null  float64\n",
      " 8   16_gflops   873331 non-null  float64\n",
      " 9   b16_gflops  873331 non-null  float64\n",
      " 10  time        873331 non-null  float64\n",
      "dtypes: bool(3), float64(5), int64(3)\n",
      "memory usage: 62.5 MB\n"
     ]
    }
   ],
   "source": [
    "df_train.info()"
   ]
  },
  {
   "cell_type": "markdown",
   "metadata": {},
   "source": [
    "# Fitting\n",
    "\n",
    "Seems like some pretty systematic bias to me!"
   ]
  },
  {
   "cell_type": "code",
   "execution_count": 7,
   "metadata": {},
   "outputs": [
    {
     "name": "stdout",
     "output_type": "stream",
     "text": [
      "                                 OLS Regression Results                                \n",
      "=======================================================================================\n",
      "Dep. Variable:                   time   R-squared (uncentered):                   1.000\n",
      "Model:                            OLS   Adj. R-squared (uncentered):              1.000\n",
      "Method:                 Least Squares   F-statistic:                          9.531e+08\n",
      "Date:                Sat, 03 Aug 2024   Prob (F-statistic):                        0.00\n",
      "Time:                        18:10:34   Log-Likelihood:                     -1.8939e+06\n",
      "No. Observations:              873331   AIC:                                  3.788e+06\n",
      "Df Residuals:                  873328   BIC:                                  3.788e+06\n",
      "Df Model:                           3                                                  \n",
      "Covariance Type:            nonrobust                                                  \n",
      "==============================================================================\n",
      "                 coef    std err          t      P>|t|      [0.025      0.975]\n",
      "------------------------------------------------------------------------------\n",
      "32_gflops      0.0534      1e-06   5.32e+04      0.000       0.053       0.053\n",
      "16_gflops      0.0037   9.99e-07   3736.288      0.000       0.004       0.004\n",
      "b16_gflops     0.0036   1.01e-06   3613.856      0.000       0.004       0.004\n",
      "==============================================================================\n",
      "Omnibus:                   677948.938   Durbin-Watson:                   1.997\n",
      "Prob(Omnibus):                  0.000   Jarque-Bera (JB):       1040290655.715\n",
      "Skew:                           2.327   Prob(JB):                         0.00\n",
      "Kurtosis:                     172.016   Cond. No.                         1.01\n",
      "==============================================================================\n",
      "\n",
      "Notes:\n",
      "[1] R² is computed without centering (uncentered) since the model does not contain a constant.\n",
      "[2] Standard Errors assume that the covariance matrix of the errors is correctly specified.\n"
     ]
    }
   ],
   "source": [
    "features = [f\"{dtype}_gflops\" for dtype in dtypes]\n",
    "\n",
    "X_lr, y_lr = df_train[features], df_train[\"time\"]\n",
    "\n",
    "model = sm.OLS(y_lr, X_lr).fit()\n",
    "print(model.summary())"
   ]
  },
  {
   "cell_type": "code",
   "execution_count": 8,
   "metadata": {},
   "outputs": [
    {
     "name": "stdout",
     "output_type": "stream",
     "text": [
      "Mean Squared Error: 4.4357841875539314\n",
      "R-squared: 0.9996940545822145\n"
     ]
    }
   ],
   "source": [
    "X_val_lr, y_val_lr = df_val[features], df_val[\"time\"]\n",
    "\n",
    "y_pred = model.predict(X_val_lr)\n",
    "\n",
    "# Calculate MSE and R-squared\n",
    "mse = mean_squared_error(y_val_lr, y_pred)\n",
    "r2 = r2_score(y_val_lr, y_pred)\n",
    "\n",
    "# High MSE + high r2\n",
    "print(f\"Mean Squared Error: {mse}\")\n",
    "print(f\"R-squared: {r2}\")"
   ]
  },
  {
   "cell_type": "code",
   "execution_count": 10,
   "metadata": {},
   "outputs": [
    {
     "data": {
      "image/png": "[encoded data removed]",
      "text/plain": [
       "<Figure size 720x432 with 1 Axes>"
      ]
     },
     "metadata": {
      "needs_background": "light"
     },
     "output_type": "display_data"
    }
   ],
   "source": [
    "plot_residuals(df_val[\"time\"], y_pred)"
   ]
  },
  {
   "cell_type": "markdown",
   "metadata": {},
   "source": [
    "# Per dtype"
   ]
  },
  {
   "cell_type": "code",
   "execution_count": 20,
   "metadata": {},
   "outputs": [
    {
     "name": "stdout",
     "output_type": "stream",
     "text": [
      "                                 OLS Regression Results                                \n",
      "=======================================================================================\n",
      "Dep. Variable:                   time   R-squared (uncentered):                   0.998\n",
      "Model:                            OLS   Adj. R-squared (uncentered):              0.998\n",
      "Method:                 Least Squares   F-statistic:                          1.635e+08\n",
      "Date:                Sat, 03 Aug 2024   Prob (F-statistic):                        0.00\n",
      "Time:                        18:14:43   Log-Likelihood:                     -2.7307e+05\n",
      "No. Observations:              291042   AIC:                                  5.461e+05\n",
      "Df Residuals:                  291041   BIC:                                  5.462e+05\n",
      "Df Model:                           1                                                  \n",
      "Covariance Type:            nonrobust                                                  \n",
      "==============================================================================\n",
      "                 coef    std err          t      P>|t|      [0.025      0.975]\n",
      "------------------------------------------------------------------------------\n",
      "16_gflops      0.0037   2.92e-07   1.28e+04      0.000       0.004       0.004\n",
      "==============================================================================\n",
      "Omnibus:                   322430.185   Durbin-Watson:                   1.968\n",
      "Prob(Omnibus):                  0.000   Jarque-Bera (JB):        461694805.177\n",
      "Skew:                           4.719   Prob(JB):                         0.00\n",
      "Kurtosis:                     197.893   Cond. No.                         1.00\n",
      "==============================================================================\n",
      "\n",
      "Notes:\n",
      "[1] R² is computed without centering (uncentered) since the model does not contain a constant.\n",
      "[2] Standard Errors assume that the covariance matrix of the errors is correctly specified.\n",
      "Mean Squared Error: 0.36240616727110736\n",
      "R-squared: 0.9981904305712969\n"
     ]
    },
    {
     "data": {
      "image/png": "[encoded data removed]",
      "text/plain": [
       "<Figure size 720x432 with 1 Axes>"
      ]
     },
     "metadata": {
      "needs_background": "light"
     },
     "output_type": "display_data"
    }
   ],
   "source": [
    "df_16 = df_train.query(\"dtype_16\")\n",
    "X_lr, y_lr = df_16[\"16_gflops\"], df_16[\"time\"]\n",
    "model = sm.OLS(y_lr, X_lr).fit()\n",
    "print(model.summary())\n",
    "\n",
    "\n",
    "df_16_val = df_val.query(\"dtype_16\")\n",
    "X_val_lr, y_val_lr = df_16_val[\"16_gflops\"], df_16_val[\"time\"]\n",
    "y_pred = model.predict(X_val_lr)\n",
    "\n",
    "# Calculate MSE and R-squared\n",
    "mse = mean_squared_error(y_val_lr, y_pred)\n",
    "r2 = r2_score(y_val_lr, y_pred)\n",
    "\n",
    "# High MSE + high r2\n",
    "print(f\"Mean Squared Error: {mse}\")\n",
    "print(f\"R-squared: {r2}\")\n",
    "\n",
    "plot_residuals(y_val_lr, y_pred)\n"
   ]
  },
  {
   "cell_type": "code",
   "execution_count": 22,
   "metadata": {},
   "outputs": [
    {
     "name": "stdout",
     "output_type": "stream",
     "text": [
      "                                 OLS Regression Results                                \n",
      "=======================================================================================\n",
      "Dep. Variable:                   time   R-squared (uncentered):                   0.998\n",
      "Model:                            OLS   Adj. R-squared (uncentered):              0.998\n",
      "Method:                 Least Squares   F-statistic:                          1.803e+08\n",
      "Date:                Sat, 03 Aug 2024   Prob (F-statistic):                        0.00\n",
      "Time:                        18:15:18   Log-Likelihood:                     -2.4889e+05\n",
      "No. Observations:              290789   AIC:                                  4.978e+05\n",
      "Df Residuals:                  290788   BIC:                                  4.978e+05\n",
      "Df Model:                           1                                                  \n",
      "Covariance Type:            nonrobust                                                  \n",
      "==============================================================================\n",
      "                 coef    std err          t      P>|t|      [0.025      0.975]\n",
      "------------------------------------------------------------------------------\n",
      "b16_gflops     0.0036   2.71e-07   1.34e+04      0.000       0.004       0.004\n",
      "==============================================================================\n",
      "Omnibus:                   458971.384   Durbin-Watson:                   1.981\n",
      "Prob(Omnibus):                  0.000   Jarque-Bera (JB):       1113808655.135\n",
      "Skew:                           9.638   Prob(JB):                         0.00\n",
      "Kurtosis:                     305.582   Cond. No.                         1.00\n",
      "==============================================================================\n",
      "\n",
      "Notes:\n",
      "[1] R² is computed without centering (uncentered) since the model does not contain a constant.\n",
      "[2] Standard Errors assume that the covariance matrix of the errors is correctly specified.\n",
      "Mean Squared Error: 0.3280735812137109\n",
      "R-squared: 0.9983664729399554\n"
     ]
    },
    {
     "data": {
      "image/png": "[encoded data removed]",
      "text/plain": [
       "<Figure size 720x432 with 1 Axes>"
      ]
     },
     "metadata": {
      "needs_background": "light"
     },
     "output_type": "display_data"
    }
   ],
   "source": [
    "df_16 = df_train.query(\"dtype_b16\")\n",
    "X_lr, y_lr = df_16[\"b16_gflops\"], df_16[\"time\"]\n",
    "model = sm.OLS(y_lr, X_lr).fit()\n",
    "print(model.summary())\n",
    "\n",
    "\n",
    "df_16_val = df_val.query(\"dtype_b16\")\n",
    "X_val_lr, y_val_lr = df_16_val[\"b16_gflops\"], df_16_val[\"time\"]\n",
    "y_pred = model.predict(X_val_lr)\n",
    "\n",
    "# Calculate MSE and R-squared\n",
    "mse = mean_squared_error(y_val_lr, y_pred)\n",
    "r2 = r2_score(y_val_lr, y_pred)\n",
    "\n",
    "# High MSE + high r2\n",
    "print(f\"Mean Squared Error: {mse}\")\n",
    "print(f\"R-squared: {r2}\")\n",
    "\n",
    "plot_residuals(y_val_lr, y_pred)\n"
   ]
  },
  {
   "cell_type": "code",
   "execution_count": 23,
   "metadata": {},
   "outputs": [
    {
     "name": "stdout",
     "output_type": "stream",
     "text": [
      "                                 OLS Regression Results                                \n",
      "=======================================================================================\n",
      "Dep. Variable:                   time   R-squared (uncentered):                   1.000\n",
      "Model:                            OLS   Adj. R-squared (uncentered):              1.000\n",
      "Method:                 Least Squares   F-statistic:                          9.978e+08\n",
      "Date:                Sat, 03 Aug 2024   Prob (F-statistic):                        0.00\n",
      "Time:                        18:15:34   Log-Likelihood:                     -7.8420e+05\n",
      "No. Observations:              291500   AIC:                                  1.568e+06\n",
      "Df Residuals:                  291499   BIC:                                  1.568e+06\n",
      "Df Model:                           1                                                  \n",
      "Covariance Type:            nonrobust                                                  \n",
      "==============================================================================\n",
      "                 coef    std err          t      P>|t|      [0.025      0.975]\n",
      "------------------------------------------------------------------------------\n",
      "32_gflops      0.0534   1.69e-06   3.16e+04      0.000       0.053       0.053\n",
      "==============================================================================\n",
      "Omnibus:                   163819.250   Durbin-Watson:                   1.993\n",
      "Prob(Omnibus):                  0.000   Jarque-Bera (JB):         45573901.845\n",
      "Skew:                           1.532   Prob(JB):                         0.00\n",
      "Kurtosis:                      64.179   Cond. No.                         1.00\n",
      "==============================================================================\n",
      "\n",
      "Notes:\n",
      "[1] R² is computed without centering (uncentered) since the model does not contain a constant.\n",
      "[2] Standard Errors assume that the covariance matrix of the errors is correctly specified.\n",
      "Mean Squared Error: 12.633183727632092\n",
      "R-squared: 0.9996995035208249\n"
     ]
    },
    {
     "data": {
      "image/png": "[encoded data removed]",
      "text/plain": [
       "<Figure size 720x432 with 1 Axes>"
      ]
     },
     "metadata": {
      "needs_background": "light"
     },
     "output_type": "display_data"
    }
   ],
   "source": [
    "df_16 = df_train.query(\"dtype_32\")\n",
    "X_lr, y_lr = df_16[\"32_gflops\"], df_16[\"time\"]\n",
    "model = sm.OLS(y_lr, X_lr).fit()\n",
    "print(model.summary())\n",
    "\n",
    "\n",
    "df_16_val = df_val.query(\"dtype_32\")\n",
    "X_val_lr, y_val_lr = df_16_val[\"32_gflops\"], df_16_val[\"time\"]\n",
    "y_pred = model.predict(X_val_lr)\n",
    "\n",
    "# Calculate MSE and R-squared\n",
    "mse = mean_squared_error(y_val_lr, y_pred)\n",
    "r2 = r2_score(y_val_lr, y_pred)\n",
    "\n",
    "# High MSE + high r2\n",
    "print(f\"Mean Squared Error: {mse}\")\n",
    "print(f\"R-squared: {r2}\")\n",
    "\n",
    "plot_residuals(y_val_lr, y_pred)\n"
   ]
  },
  {
   "cell_type": "code",
   "execution_count": null,
   "metadata": {},
   "outputs": [],
   "source": []
  }
 ],
 "metadata": {
  "kernelspec": {
   "display_name": "research",
   "language": "python",
   "name": "python3"
  },
  "language_info": {
   "codemirror_mode": {
    "name": "ipython",
    "version": 3
   },
   "file_extension": ".py",
   "mimetype": "text/x-python",
   "name": "python",
   "nbconvert_exporter": "python",
   "pygments_lexer": "ipython3",
   "version": "3.10.13"
  }
 },
 "nbformat": 4,
 "nbformat_minor": 2
}
