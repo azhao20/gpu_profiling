{
 "cells": [
  {
   "cell_type": "code",
   "execution_count": null,
   "metadata": {},
   "outputs": [],
   "source": [
    "import pandas as pd\n",
    "import os, sys\n",
    "import numpy as np\n",
    "\n",
    "sys.path.insert(0, os.path.abspath(os.path.join(os.getcwd(), '../..')))\n",
    "\n",
    "from utils.prediction_utils import *\n",
    "\n",
    "import matplotlib.pyplot as plt\n",
    "%matplotlib inline\n",
    "\n",
    "from sklearn.tree import DecisionTreeRegressor\n",
    "from sklearn.tree import plot_tree\n",
    "\n",
    "from sklearn.ensemble import RandomForestRegressor\n",
    "\n",
    "from sklearn.model_selection import GridSearchCV, RandomizedSearchCV\n",
    "from sklearn.metrics import make_scorer, mean_squared_error\n",
    "\n",
    "import xgboost as xgb\n",
    "\n",
    "random_seed = 42"
   ]
  },
  {
   "cell_type": "code",
   "execution_count": null,
   "metadata": {},
   "outputs": [],
   "source": [
    "base_dir = \"/Users/andrew/Desktop/Harvard/idreos-research/gpu_profiling/final/data\"\n",
    "X, y = get_data(\"mm\", base_dir, sample_rate=0.3)\n",
    "\n",
    "df = pd.concat([X, y], axis=1)\n",
    "df = df.dropna()\n",
    "df = df[df[\"time\"] > 0]\n",
    "X, y = df.drop(columns=[\"time\"]), df[\"time\"]"
   ]
  },
  {
   "cell_type": "code",
   "execution_count": null,
   "metadata": {},
   "outputs": [],
   "source": [
    "n_iter = 20\n",
    "\n",
    "X_train, X_val, X_test, y_train, y_val, y_test = get_train_test_split(X, y, return_concat=False)\n",
    "X_cv = pd.concat([X_train, X_val])\n",
    "y_cv = pd.concat([y_train, y_val])\n",
    "\n",
    "tree_model = RandomForestRegressor(random_state=random_seed)\n",
    "\n",
    "param_dist = {\n",
    "    \"max_depth\": [100, 150, 200],\n",
    "    \"min_samples_split\": [2, 5],\n",
    "    \"min_samples_leaf\": [2, 5],\n",
    "    \"max_features\": [10, 20, 50, 100, 1.0, \"sqrt\"],\n",
    "    \"n_estimators\": [50, 100],\n",
    "}\n",
    "\n",
    "randomized_search = RandomizedSearchCV(\n",
    "    estimator=tree_model,\n",
    "    param_distributions=param_dist,\n",
    "    n_iter=n_iter,  # Number of iterations to perform\n",
    "    scoring=make_scorer(mean_squared_error, greater_is_better=False),\n",
    "    cv=5,\n",
    "    random_state=random_seed,\n",
    "    n_jobs=3,\n",
    ")"
   ]
  },
  {
   "cell_type": "code",
   "execution_count": null,
   "metadata": {},
   "outputs": [],
   "source": [
    "randomized_search.fit(X_cv, y_cv)\n",
    "print(\"Best parameters found: \", randomized_search.best_params_)\n",
    "print(\"Best MSE found: \", randomized_search.best_score_)\n",
    "\n",
    "best_tree_model = randomized_search.best_estimator_\n",
    "best_tree_model.fit(X_cv, y_cv)\n",
    "run_val_pipeline(best_tree_model, X_cv, X_test, y_cv, y_test, bins=30)"
   ]
  }
 ],
 "metadata": {
  "kernelspec": {
   "display_name": "research",
   "language": "python",
   "name": "python3"
  },
  "language_info": {
   "name": "python",
   "version": "3.10.13"
  }
 },
 "nbformat": 4,
 "nbformat_minor": 2
}
