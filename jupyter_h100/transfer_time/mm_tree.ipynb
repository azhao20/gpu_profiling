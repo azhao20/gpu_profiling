{
 "cells": [
  {
   "cell_type": "code",
   "execution_count": 2,
   "metadata": {},
   "outputs": [],
   "source": [
    "import pandas as pd\n",
    "import os, sys\n",
    "import numpy as np\n",
    "\n",
    "sys.path.insert(0, os.path.abspath(os.path.join(os.getcwd(), '../..')))\n",
    "\n",
    "from utils.prediction_utils import *\n",
    "\n",
    "import matplotlib.pyplot as plt\n",
    "%matplotlib inline\n",
    "\n",
    "from sklearn.tree import DecisionTreeRegressor\n",
    "from sklearn.tree import plot_tree\n",
    "\n",
    "from sklearn.ensemble import RandomForestRegressor\n",
    "\n",
    "import xgboost as xgb\n",
    "\n",
    "random_seed = 42"
   ]
  },
  {
   "cell_type": "code",
   "execution_count": 3,
   "metadata": {},
   "outputs": [
    {
     "name": "stderr",
     "output_type": "stream",
     "text": [
      "100%|██████████| 72/72 [01:41<00:00,  1.41s/it]\n"
     ]
    },
    {
     "name": "stdout",
     "output_type": "stream",
     "text": [
      "<class 'pandas.core.frame.DataFrame'>\n",
      "RangeIndex: 1247616 entries, 0 to 1247615\n",
      "Data columns (total 7 columns):\n",
      " #   Column     Non-Null Count    Dtype  \n",
      "---  ------     --------------    -----  \n",
      " 0   n          1247616 non-null  int64  \n",
      " 1   m          1247616 non-null  int64  \n",
      " 2   p          1247616 non-null  int64  \n",
      " 3   gflops     1247616 non-null  float64\n",
      " 4   dtype_16   1247616 non-null  bool   \n",
      " 5   dtype_32   1247616 non-null  bool   \n",
      " 6   dtype_b16  1247616 non-null  bool   \n",
      "dtypes: bool(3), float64(1), int64(3)\n",
      "memory usage: 41.6 MB\n"
     ]
    }
   ],
   "source": [
    "base_dir = \"/Users/andrew/Desktop/Harvard/idreos-research/gpu_profiling/experiments/data\"\n",
    "X, y = get_data(\"mm\", base_dir, sample_rate=1.0)\n",
    "X.info()"
   ]
  },
  {
   "cell_type": "code",
   "execution_count": 4,
   "metadata": {},
   "outputs": [
    {
     "name": "stdout",
     "output_type": "stream",
     "text": [
      "0\n",
      "0\n"
     ]
    }
   ],
   "source": [
    "print((y<0).sum())\n",
    "print(y.isna().sum())"
   ]
  },
  {
   "cell_type": "code",
   "execution_count": 5,
   "metadata": {},
   "outputs": [],
   "source": [
    "# Create input + output features"
   ]
  },
  {
   "cell_type": "code",
   "execution_count": null,
   "metadata": {},
   "outputs": [],
   "source": [
    "X_train, X_val, X_test, y_train, y_val, y_test = get_train_test_split(X, y, return_concat=False)\n",
    "X_cv = pd.concat([X_train, X_val])\n",
    "y_cv = pd.concat([y_train, y_val])\n",
    "\n",
    "tree_model = RandomForestRegressor(max_depth=80, min_samples_split=2, min_samples_leaf=2, max_features=100, random_state=random_seed)\n",
    "tree_model.fit(X_cv, y_cv)\n",
    "\n",
    "run_val_pipeline(tree_model, X_cv, X_test, y_cv, y_test, bins=30)"
   ]
  }
 ],
 "metadata": {
  "kernelspec": {
   "display_name": "research",
   "language": "python",
   "name": "python3"
  },
  "language_info": {
   "codemirror_mode": {
    "name": "ipython",
    "version": 3
   },
   "file_extension": ".py",
   "mimetype": "text/x-python",
   "name": "python",
   "nbconvert_exporter": "python",
   "pygments_lexer": "ipython3",
   "version": "3.10.13"
  }
 },
 "nbformat": 4,
 "nbformat_minor": 2
}
